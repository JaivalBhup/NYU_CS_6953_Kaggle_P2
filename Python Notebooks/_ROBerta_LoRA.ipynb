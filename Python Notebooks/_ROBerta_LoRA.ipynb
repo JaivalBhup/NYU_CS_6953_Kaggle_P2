{
  "cells": [
    {
      "cell_type": "markdown",
      "id": "a02285e6",
      "metadata": {
        "id": "a02285e6"
      },
      "source": [
        "# Starter Notebook"
      ]
    },
    {
      "cell_type": "markdown",
      "id": "bdcc5329",
      "metadata": {
        "id": "bdcc5329"
      },
      "source": [
        "Install and import required libraries"
      ]
    },
    {
      "cell_type": "code",
      "execution_count": null,
      "id": "348ceed6-b684-46c3-8a32-9bb640c9a9d7",
      "metadata": {
        "collapsed": true,
        "id": "348ceed6-b684-46c3-8a32-9bb640c9a9d7"
      },
      "outputs": [],
      "source": [
        "!pip install transformers datasets evaluate accelerate peft trl bitsandbytes\n",
        "!pip install nvidia-ml-py3"
      ]
    },
    {
      "cell_type": "code",
      "execution_count": null,
      "id": "V9WNH_wQS8HH",
      "metadata": {
        "id": "V9WNH_wQS8HH"
      },
      "outputs": [],
      "source": [
        "!pip install datasets"
      ]
    },
    {
      "cell_type": "code",
      "execution_count": null,
      "id": "o4qCVe2Mvrxb",
      "metadata": {
        "colab": {
          "base_uri": "https://localhost:8080/"
        },
        "id": "o4qCVe2Mvrxb",
        "outputId": "56d53d94-28fb-4846-f4da-b845868f734e"
      },
      "outputs": [
        {
          "name": "stdout",
          "output_type": "stream",
          "text": [
            "Collecting evaluate\n",
            "  Downloading evaluate-0.4.3-py3-none-any.whl.metadata (9.2 kB)\n",
            "Requirement already satisfied: datasets>=2.0.0 in /usr/local/lib/python3.11/dist-packages (from evaluate) (3.5.0)\n",
            "Requirement already satisfied: numpy>=1.17 in /usr/local/lib/python3.11/dist-packages (from evaluate) (2.0.2)\n",
            "Requirement already satisfied: dill in /usr/local/lib/python3.11/dist-packages (from evaluate) (0.3.8)\n",
            "Requirement already satisfied: pandas in /usr/local/lib/python3.11/dist-packages (from evaluate) (2.2.2)\n",
            "Requirement already satisfied: requests>=2.19.0 in /usr/local/lib/python3.11/dist-packages (from evaluate) (2.32.3)\n",
            "Requirement already satisfied: tqdm>=4.62.1 in /usr/local/lib/python3.11/dist-packages (from evaluate) (4.67.1)\n",
            "Requirement already satisfied: xxhash in /usr/local/lib/python3.11/dist-packages (from evaluate) (3.5.0)\n",
            "Requirement already satisfied: multiprocess in /usr/local/lib/python3.11/dist-packages (from evaluate) (0.70.16)\n",
            "Requirement already satisfied: fsspec>=2021.05.0 in /usr/local/lib/python3.11/dist-packages (from fsspec[http]>=2021.05.0->evaluate) (2024.12.0)\n",
            "Requirement already satisfied: huggingface-hub>=0.7.0 in /usr/local/lib/python3.11/dist-packages (from evaluate) (0.30.2)\n",
            "Requirement already satisfied: packaging in /usr/local/lib/python3.11/dist-packages (from evaluate) (24.2)\n",
            "Requirement already satisfied: filelock in /usr/local/lib/python3.11/dist-packages (from datasets>=2.0.0->evaluate) (3.18.0)\n",
            "Requirement already satisfied: pyarrow>=15.0.0 in /usr/local/lib/python3.11/dist-packages (from datasets>=2.0.0->evaluate) (18.1.0)\n",
            "Requirement already satisfied: aiohttp in /usr/local/lib/python3.11/dist-packages (from datasets>=2.0.0->evaluate) (3.11.15)\n",
            "Requirement already satisfied: pyyaml>=5.1 in /usr/local/lib/python3.11/dist-packages (from datasets>=2.0.0->evaluate) (6.0.2)\n",
            "Requirement already satisfied: typing-extensions>=3.7.4.3 in /usr/local/lib/python3.11/dist-packages (from huggingface-hub>=0.7.0->evaluate) (4.13.1)\n",
            "Requirement already satisfied: charset-normalizer<4,>=2 in /usr/local/lib/python3.11/dist-packages (from requests>=2.19.0->evaluate) (3.4.1)\n",
            "Requirement already satisfied: idna<4,>=2.5 in /usr/local/lib/python3.11/dist-packages (from requests>=2.19.0->evaluate) (3.10)\n",
            "Requirement already satisfied: urllib3<3,>=1.21.1 in /usr/local/lib/python3.11/dist-packages (from requests>=2.19.0->evaluate) (2.3.0)\n",
            "Requirement already satisfied: certifi>=2017.4.17 in /usr/local/lib/python3.11/dist-packages (from requests>=2.19.0->evaluate) (2025.1.31)\n",
            "Requirement already satisfied: python-dateutil>=2.8.2 in /usr/local/lib/python3.11/dist-packages (from pandas->evaluate) (2.8.2)\n",
            "Requirement already satisfied: pytz>=2020.1 in /usr/local/lib/python3.11/dist-packages (from pandas->evaluate) (2025.2)\n",
            "Requirement already satisfied: tzdata>=2022.7 in /usr/local/lib/python3.11/dist-packages (from pandas->evaluate) (2025.2)\n",
            "Requirement already satisfied: aiohappyeyeballs>=2.3.0 in /usr/local/lib/python3.11/dist-packages (from aiohttp->datasets>=2.0.0->evaluate) (2.6.1)\n",
            "Requirement already satisfied: aiosignal>=1.1.2 in /usr/local/lib/python3.11/dist-packages (from aiohttp->datasets>=2.0.0->evaluate) (1.3.2)\n",
            "Requirement already satisfied: attrs>=17.3.0 in /usr/local/lib/python3.11/dist-packages (from aiohttp->datasets>=2.0.0->evaluate) (25.3.0)\n",
            "Requirement already satisfied: frozenlist>=1.1.1 in /usr/local/lib/python3.11/dist-packages (from aiohttp->datasets>=2.0.0->evaluate) (1.5.0)\n",
            "Requirement already satisfied: multidict<7.0,>=4.5 in /usr/local/lib/python3.11/dist-packages (from aiohttp->datasets>=2.0.0->evaluate) (6.4.2)\n",
            "Requirement already satisfied: propcache>=0.2.0 in /usr/local/lib/python3.11/dist-packages (from aiohttp->datasets>=2.0.0->evaluate) (0.3.1)\n",
            "Requirement already satisfied: yarl<2.0,>=1.17.0 in /usr/local/lib/python3.11/dist-packages (from aiohttp->datasets>=2.0.0->evaluate) (1.19.0)\n",
            "Requirement already satisfied: six>=1.5 in /usr/local/lib/python3.11/dist-packages (from python-dateutil>=2.8.2->pandas->evaluate) (1.17.0)\n",
            "Downloading evaluate-0.4.3-py3-none-any.whl (84 kB)\n",
            "\u001b[2K   \u001b[90m━━━━━━━━━━━━━━━━━━━━━━━━━━━━━━━━━━━━━━━━\u001b[0m \u001b[32m84.0/84.0 kB\u001b[0m \u001b[31m4.2 MB/s\u001b[0m eta \u001b[36m0:00:00\u001b[0m\n",
            "\u001b[?25hInstalling collected packages: evaluate\n",
            "Successfully installed evaluate-0.4.3\n"
          ]
        }
      ],
      "source": [
        "!pip install evaluate"
      ]
    },
    {
      "cell_type": "code",
      "execution_count": null,
      "id": "cca64f38-d8d2-4313-8295-fbbd43c2a263",
      "metadata": {
        "id": "cca64f38-d8d2-4313-8295-fbbd43c2a263"
      },
      "outputs": [],
      "source": [
        "import os\n",
        "import pandas as pd\n",
        "import torch\n",
        "from transformers import RobertaModel, RobertaTokenizer, TrainingArguments, Trainer, DataCollatorWithPadding, RobertaForSequenceClassification, BitsAndBytesConfig\n",
        "from peft import LoraConfig, get_peft_model, PeftModel, prepare_model_for_kbit_training\n",
        "from datasets import load_dataset, Dataset, ClassLabel\n",
        "import pickle\n",
        "import numpy as np"
      ]
    },
    {
      "cell_type": "code",
      "execution_count": null,
      "id": "EO89e0D6q5ju",
      "metadata": {
        "id": "EO89e0D6q5ju"
      },
      "outputs": [],
      "source": [
        "# This method plots a graph of Accururacy vs Tokens length\n",
        "def plot_accuracy_to_length(predictions, labels, input_lengths):\n",
        "    import matplotlib.pyplot as plt\n",
        "    import numpy as np\n",
        "    from collections import defaultdict\n",
        "    correct_by_len = defaultdict(int)\n",
        "    total_by_len = defaultdict(int)\n",
        "    # Calculate accuracy mapped by length\n",
        "    for pred, label, length in zip(predictions, labels, input_lengths):\n",
        "        total_by_len[length] += 1\n",
        "        if pred == label:\n",
        "            correct_by_len[length] += 1\n",
        "    # Plot the accuracy\n",
        "    accuracy_by_len = {length: correct_by_len[length] / total_by_len[length] for length in total_by_len}\n",
        "    sorted_lengths = sorted(accuracy_by_len.keys())\n",
        "    accuracies = [accuracy_by_len[l] for l in sorted_lengths]\n",
        "    plt.figure(figsize=(12, 6))\n",
        "    plt.plot(sorted_lengths, accuracies, marker='o', linestyle='-', color='royalblue')\n",
        "    plt.title(\"Accuracy vs. Input Length\")\n",
        "    plt.xlabel(\"Input Length\")\n",
        "    plt.ylabel(\"Accuracy\")\n",
        "    plt.grid(True)\n",
        "    plt.tight_layout()\n",
        "    plt.show()"
      ]
    },
    {
      "cell_type": "markdown",
      "id": "59d6e377",
      "metadata": {
        "id": "59d6e377"
      },
      "source": [
        "## Load Tokenizer and Preprocess Data"
      ]
    },
    {
      "cell_type": "code",
      "execution_count": null,
      "id": "ki5Fzh1y7O3Z",
      "metadata": {
        "id": "ki5Fzh1y7O3Z"
      },
      "outputs": [],
      "source": [
        "# Cleaning the data\n",
        "import re\n",
        "# Removes\n",
        "def remove_jargon(txt):\n",
        "  txt = re.sub(r\"\\$\\d+(\\.\\d+)?[Mm]?\", \"<MONEY>\", txt) # Converts dollars into a token. Eg $5M -> <MONEY>\n",
        "  txt = re.sub(r\"https?://\\S+|www\\.\\S+\", \"<URL>\", txt) # Converts url into a token. Eg http://google.com -> <URL>\n",
        "  txt = re.sub(r\"\\b[A-Z]{2,}\\b\", lambda m: m.group(0).lower(), txt)\n",
        "  return txt\n",
        "\n",
        "def clean_text(data):\n",
        "    cleaned_text = remove_jargon(data[\"text\"])\n",
        "    return {\"text\": cleaned_text}"
      ]
    },
    {
      "cell_type": "code",
      "execution_count": null,
      "id": "_Hbk11MIQtHP",
      "metadata": {
        "id": "_Hbk11MIQtHP"
      },
      "outputs": [],
      "source": [
        "def preprocess(examples):\n",
        "    tokenized = tokenizer(examples['text'], truncation=True, padding=True, max_length=280) # Truncates the text to 280 tokens\n",
        "    return tokenized\n",
        "def preprocess_wo_ml(examples):\n",
        "    tokenized = tokenizer(examples['text'], truncation=True, padding=True)\n",
        "    return tokenized\n",
        "tokenizer = RobertaTokenizer.from_pretrained('roberta-base', truncation=True, do_lower_case=True)"
      ]
    },
    {
      "cell_type": "code",
      "execution_count": null,
      "id": "21f42747-f551-40a5-a95f-7affb1eba4a3",
      "metadata": {
        "colab": {
          "base_uri": "https://localhost:8080/",
          "height": 49,
          "referenced_widgets": [
            "6843f96f389a4b63b57ac5111f199c51",
            "d0838ff02bad41b3be4b88e6eb50ca1b",
            "241be4b596c747d29717010e3da65323",
            "b0c478963a94461faa170a735ba0701b",
            "96285364c6d349f48b0a31946bda11ab",
            "f1e9f60f173a4040a5ea457f753495f5",
            "d12dc4ab60654306a92c97b2a722b7f7",
            "3085f95be72348d7b128ceae24adaa88",
            "e6781ab0e1e142f789befed0a97c41ba",
            "18dd6951c32145e49e5c8c787af8c1c9",
            "74f6233a463940c5959f8f343be1774c"
          ]
        },
        "id": "21f42747-f551-40a5-a95f-7affb1eba4a3",
        "outputId": "09302dc0-e70d-4bc9-80cb-1059457b5442"
      },
      "outputs": [
        {
          "data": {
            "application/vnd.jupyter.widget-view+json": {
              "model_id": "6843f96f389a4b63b57ac5111f199c51",
              "version_major": 2,
              "version_minor": 0
            },
            "text/plain": [
              "Map:   0%|          | 0/120000 [00:00<?, ? examples/s]"
            ]
          },
          "metadata": {},
          "output_type": "display_data"
        }
      ],
      "source": [
        "dataset = load_dataset('ag_news', split='train')\n",
        "tokenized_dataset = dataset.map(preprocess, batched=True,  remove_columns=[\"text\"])\n",
        "tokenized_dataset = tokenized_dataset.rename_column(\"label\", \"labels\")"
      ]
    },
    {
      "cell_type": "code",
      "execution_count": null,
      "id": "9e07f641-bec0-43a6-8c26-510d7642916a",
      "metadata": {
        "colab": {
          "base_uri": "https://localhost:8080/"
        },
        "id": "9e07f641-bec0-43a6-8c26-510d7642916a",
        "outputId": "28f77562-99d5-4d62-fb81-06c2dc073a3c"
      },
      "outputs": [
        {
          "name": "stdout",
          "output_type": "stream",
          "text": [
            "number of labels: 4\n",
            "the labels: ['World', 'Sports', 'Business', 'Sci/Tech']\n"
          ]
        }
      ],
      "source": [
        "# Extract the number of classess and their names\n",
        "num_labels = dataset.features['label'].num_classes\n",
        "class_names = dataset.features[\"label\"].names\n",
        "print(f\"number of labels: {num_labels}\")\n",
        "print(f\"the labels: {class_names}\")\n",
        "\n",
        "# Create an id2label mapping\n",
        "# We will need this for our classifier.\n",
        "id2label = {i: label for i, label in enumerate(class_names)}\n",
        "\n",
        "data_collator = DataCollatorWithPadding(tokenizer=tokenizer, return_tensors=\"pt\")\n"
      ]
    },
    {
      "cell_type": "markdown",
      "id": "c9e24afd",
      "metadata": {
        "id": "c9e24afd"
      },
      "source": [
        "## Load Pre-trained Model\n",
        "Set up config for pretrained model and download it from hugging face"
      ]
    },
    {
      "cell_type": "code",
      "execution_count": null,
      "id": "262a8416-a59c-4ea1-95d9-0b1f81d6094c",
      "metadata": {
        "colab": {
          "base_uri": "https://localhost:8080/"
        },
        "id": "262a8416-a59c-4ea1-95d9-0b1f81d6094c",
        "outputId": "1f6eb3b3-b26e-416d-9a1a-e00e785c0a40"
      },
      "outputs": [
        {
          "name": "stderr",
          "output_type": "stream",
          "text": [
            "Some weights of RobertaForSequenceClassification were not initialized from the model checkpoint at roberta-base and are newly initialized: ['classifier.dense.bias', 'classifier.dense.weight', 'classifier.out_proj.bias', 'classifier.out_proj.weight']\n",
            "You should probably TRAIN this model on a down-stream task to be able to use it for predictions and inference.\n"
          ]
        },
        {
          "data": {
            "text/plain": [
              "RobertaForSequenceClassification(\n",
              "  (roberta): RobertaModel(\n",
              "    (embeddings): RobertaEmbeddings(\n",
              "      (word_embeddings): Embedding(50265, 768, padding_idx=1)\n",
              "      (position_embeddings): Embedding(514, 768, padding_idx=1)\n",
              "      (token_type_embeddings): Embedding(1, 768)\n",
              "      (LayerNorm): LayerNorm((768,), eps=1e-05, elementwise_affine=True)\n",
              "      (dropout): Dropout(p=0.1, inplace=False)\n",
              "    )\n",
              "    (encoder): RobertaEncoder(\n",
              "      (layer): ModuleList(\n",
              "        (0-11): 12 x RobertaLayer(\n",
              "          (attention): RobertaAttention(\n",
              "            (self): RobertaSdpaSelfAttention(\n",
              "              (query): Linear(in_features=768, out_features=768, bias=True)\n",
              "              (key): Linear(in_features=768, out_features=768, bias=True)\n",
              "              (value): Linear(in_features=768, out_features=768, bias=True)\n",
              "              (dropout): Dropout(p=0.1, inplace=False)\n",
              "            )\n",
              "            (output): RobertaSelfOutput(\n",
              "              (dense): Linear(in_features=768, out_features=768, bias=True)\n",
              "              (LayerNorm): LayerNorm((768,), eps=1e-05, elementwise_affine=True)\n",
              "              (dropout): Dropout(p=0.1, inplace=False)\n",
              "            )\n",
              "          )\n",
              "          (intermediate): RobertaIntermediate(\n",
              "            (dense): Linear(in_features=768, out_features=3072, bias=True)\n",
              "            (intermediate_act_fn): GELUActivation()\n",
              "          )\n",
              "          (output): RobertaOutput(\n",
              "            (dense): Linear(in_features=3072, out_features=768, bias=True)\n",
              "            (LayerNorm): LayerNorm((768,), eps=1e-05, elementwise_affine=True)\n",
              "            (dropout): Dropout(p=0.1, inplace=False)\n",
              "          )\n",
              "        )\n",
              "      )\n",
              "    )\n",
              "  )\n",
              "  (classifier): RobertaClassificationHead(\n",
              "    (dense): Linear(in_features=768, out_features=768, bias=True)\n",
              "    (dropout): Dropout(p=0.1, inplace=False)\n",
              "    (out_proj): Linear(in_features=768, out_features=4, bias=True)\n",
              "  )\n",
              ")"
            ]
          },
          "execution_count": 73,
          "metadata": {},
          "output_type": "execute_result"
        }
      ],
      "source": [
        "model = RobertaForSequenceClassification.from_pretrained(\n",
        "    'roberta-base',\n",
        "    id2label=id2label)\n",
        "model"
      ]
    },
    {
      "cell_type": "markdown",
      "id": "f265839d-a088-4693-8474-862641de11ed",
      "metadata": {
        "id": "f265839d-a088-4693-8474-862641de11ed"
      },
      "source": [
        "## Anything from here on can be modified"
      ]
    },
    {
      "cell_type": "code",
      "execution_count": null,
      "id": "e7413430-be57-482b-856e-36bd4ba799df",
      "metadata": {
        "colab": {
          "base_uri": "https://localhost:8080/"
        },
        "id": "e7413430-be57-482b-856e-36bd4ba799df",
        "outputId": "27c2317a-90ba-4328-b81e-fd63cbf8c287"
      },
      "outputs": [
        {
          "name": "stdout",
          "output_type": "stream",
          "text": [
            "120000\n"
          ]
        },
        {
          "data": {
            "text/plain": [
              "3730.0"
            ]
          },
          "execution_count": 60,
          "metadata": {},
          "output_type": "execute_result"
        }
      ],
      "source": [
        "# Split the original training set\n",
        "print(len(tokenized_dataset))\n",
        "split_datasets = tokenized_dataset.train_test_split(test_size=640, seed=42)\n",
        "train_dataset = split_datasets['train'].shuffle(seed=42)\n",
        "eval_dataset = split_datasets['test'].shuffle(seed=42)\n",
        "len(train_dataset)/32"
      ]
    },
    {
      "cell_type": "markdown",
      "id": "652452e3",
      "metadata": {
        "id": "652452e3"
      },
      "source": [
        "## Setup LoRA Config\n",
        "Setup PEFT config and get peft model for finetuning"
      ]
    },
    {
      "cell_type": "code",
      "execution_count": null,
      "id": "bd0ca0ea-86b8-47f7-8cbf-83da25685876",
      "metadata": {
        "id": "bd0ca0ea-86b8-47f7-8cbf-83da25685876"
      },
      "outputs": [],
      "source": [
        "# Benchmark Config Test accuracy 85.375%\n",
        "rank_pattern1 = {\n",
        "    '.*query': 2,\n",
        "    '.*key': 2,\n",
        "    '.*value': 2,\n",
        "    '.*attention.output.dense': 4,\n",
        "    '.*output.dense':2,\n",
        "    '.*intermediate.dense':2\n",
        "}\n",
        "peft_config1 = LoraConfig(\n",
        "    r=4,\n",
        "    # lora_alpha = 8,\n",
        "    alpha_pattern={\"query\": 4, \"key\": 4,\"value\":4,\"attention.output.dense\":8,\n",
        "                   \"output.dense\":4,\n",
        "                   'intermediate.dense':4\n",
        "                   },\n",
        "    lora_dropout=0.1,\n",
        "    bias=\"none\",\n",
        "    target_modules=[\n",
        "        \"query\", \"key\", \"value\",\n",
        "        \"attention.output.dense\",\n",
        "        'output.dense',\n",
        "        'intermediate.dense'\n",
        "    ],\n",
        "    modules_to_save = ['attention.output.LayerNorm'],\n",
        "    rank_pattern=rank_pattern1,\n",
        "    task_type=\"SEQ_CLS\",\n",
        ")\n",
        "\n",
        "# Config 2, Test Accuracy 85%\n",
        "layers = [1,3,5,7,9,10,11]\n",
        "modules_to_save2 = []\n",
        "target_modules2 = []\n",
        "for i in layers:\n",
        "    target_modules2.append(f\"roberta.encoder.layer.{i}.attention.self.query\")\n",
        "    target_modules2.append(f\"roberta.encoder.layer.{i}.attention.self.key\")\n",
        "    target_modules2.append(f\"roberta.encoder.layer.{i}.attention.self.value\")\n",
        "    target_modules2.append(f\"roberta.encoder.layer.{i}.attention.output.dense\")\n",
        "    target_modules2.append(f\"roberta.encoder.layer.{i}.intermediate.dense\")\n",
        "    target_modules2.append(f\"roberta.encoder.layer.{i}.output.dense\")\n",
        "    modules_to_save2.append(f\"roberta.encoder.layer.{i}.attention.output.LayerNorm\")\n",
        "    if i in [5,7,9,10,11]:\n",
        "        modules_to_save2.append(f\"roberta.encoder.layer.{i}.output.LayerNorm\")\n",
        "\n",
        "peft_config2 = LoraConfig(\n",
        "    r=4,\n",
        "    lora_alpha = 8,\n",
        "    lora_dropout=0.1,\n",
        "    bias=\"none\",\n",
        "    target_modules=target_modules2,\n",
        "    modules_to_save = modules_to_save2,\n",
        "    task_type=\"SEQ_CLS\",\n",
        ")"
      ]
    },
    {
      "cell_type": "code",
      "execution_count": null,
      "id": "6ec2739d-76b6-4fde-91c2-0fc49e1884b0",
      "metadata": {
        "id": "6ec2739d-76b6-4fde-91c2-0fc49e1884b0"
      },
      "outputs": [],
      "source": [
        "peft_model = get_peft_model(model, peft_config1)"
      ]
    },
    {
      "cell_type": "code",
      "execution_count": null,
      "id": "a769f54e-05ad-4e3c-aae8-d00d1d9dfb2f",
      "metadata": {
        "colab": {
          "base_uri": "https://localhost:8080/"
        },
        "collapsed": true,
        "id": "a769f54e-05ad-4e3c-aae8-d00d1d9dfb2f",
        "outputId": "4fb166e5-e76a-486d-cf4e-1800262aaf74"
      },
      "outputs": [
        {
          "name": "stdout",
          "output_type": "stream",
          "text": [
            "Trainable parameters:\n",
            "base_model.model.roberta.encoder.layer.0.attention.self.query.lora_A.default.weight\n",
            "base_model.model.roberta.encoder.layer.0.attention.self.query.lora_B.default.weight\n",
            "base_model.model.roberta.encoder.layer.0.attention.self.key.lora_A.default.weight\n",
            "base_model.model.roberta.encoder.layer.0.attention.self.key.lora_B.default.weight\n",
            "base_model.model.roberta.encoder.layer.0.attention.self.value.lora_A.default.weight\n",
            "base_model.model.roberta.encoder.layer.0.attention.self.value.lora_B.default.weight\n",
            "base_model.model.roberta.encoder.layer.0.attention.output.dense.lora_A.default.weight\n",
            "base_model.model.roberta.encoder.layer.0.attention.output.dense.lora_B.default.weight\n",
            "base_model.model.roberta.encoder.layer.0.attention.output.LayerNorm.modules_to_save.default.weight\n",
            "base_model.model.roberta.encoder.layer.0.attention.output.LayerNorm.modules_to_save.default.bias\n",
            "base_model.model.roberta.encoder.layer.0.output.dense.lora_A.default.weight\n",
            "base_model.model.roberta.encoder.layer.0.output.dense.lora_B.default.weight\n",
            "base_model.model.roberta.encoder.layer.1.attention.self.query.lora_A.default.weight\n",
            "base_model.model.roberta.encoder.layer.1.attention.self.query.lora_B.default.weight\n",
            "base_model.model.roberta.encoder.layer.1.attention.self.key.lora_A.default.weight\n",
            "base_model.model.roberta.encoder.layer.1.attention.self.key.lora_B.default.weight\n",
            "base_model.model.roberta.encoder.layer.1.attention.self.value.lora_A.default.weight\n",
            "base_model.model.roberta.encoder.layer.1.attention.self.value.lora_B.default.weight\n",
            "base_model.model.roberta.encoder.layer.1.attention.output.dense.lora_A.default.weight\n",
            "base_model.model.roberta.encoder.layer.1.attention.output.dense.lora_B.default.weight\n",
            "base_model.model.roberta.encoder.layer.1.attention.output.LayerNorm.modules_to_save.default.weight\n",
            "base_model.model.roberta.encoder.layer.1.attention.output.LayerNorm.modules_to_save.default.bias\n",
            "base_model.model.roberta.encoder.layer.1.output.dense.lora_A.default.weight\n",
            "base_model.model.roberta.encoder.layer.1.output.dense.lora_B.default.weight\n",
            "base_model.model.roberta.encoder.layer.2.attention.self.query.lora_A.default.weight\n",
            "base_model.model.roberta.encoder.layer.2.attention.self.query.lora_B.default.weight\n",
            "base_model.model.roberta.encoder.layer.2.attention.self.key.lora_A.default.weight\n",
            "base_model.model.roberta.encoder.layer.2.attention.self.key.lora_B.default.weight\n",
            "base_model.model.roberta.encoder.layer.2.attention.self.value.lora_A.default.weight\n",
            "base_model.model.roberta.encoder.layer.2.attention.self.value.lora_B.default.weight\n",
            "base_model.model.roberta.encoder.layer.2.attention.output.dense.lora_A.default.weight\n",
            "base_model.model.roberta.encoder.layer.2.attention.output.dense.lora_B.default.weight\n",
            "base_model.model.roberta.encoder.layer.2.attention.output.LayerNorm.modules_to_save.default.weight\n",
            "base_model.model.roberta.encoder.layer.2.attention.output.LayerNorm.modules_to_save.default.bias\n",
            "base_model.model.roberta.encoder.layer.2.output.dense.lora_A.default.weight\n",
            "base_model.model.roberta.encoder.layer.2.output.dense.lora_B.default.weight\n",
            "base_model.model.roberta.encoder.layer.3.attention.self.query.lora_A.default.weight\n",
            "base_model.model.roberta.encoder.layer.3.attention.self.query.lora_B.default.weight\n",
            "base_model.model.roberta.encoder.layer.3.attention.self.key.lora_A.default.weight\n",
            "base_model.model.roberta.encoder.layer.3.attention.self.key.lora_B.default.weight\n",
            "base_model.model.roberta.encoder.layer.3.attention.self.value.lora_A.default.weight\n",
            "base_model.model.roberta.encoder.layer.3.attention.self.value.lora_B.default.weight\n",
            "base_model.model.roberta.encoder.layer.3.attention.output.dense.lora_A.default.weight\n",
            "base_model.model.roberta.encoder.layer.3.attention.output.dense.lora_B.default.weight\n",
            "base_model.model.roberta.encoder.layer.3.attention.output.LayerNorm.modules_to_save.default.weight\n",
            "base_model.model.roberta.encoder.layer.3.attention.output.LayerNorm.modules_to_save.default.bias\n",
            "base_model.model.roberta.encoder.layer.3.output.dense.lora_A.default.weight\n",
            "base_model.model.roberta.encoder.layer.3.output.dense.lora_B.default.weight\n",
            "base_model.model.roberta.encoder.layer.4.attention.self.query.lora_A.default.weight\n",
            "base_model.model.roberta.encoder.layer.4.attention.self.query.lora_B.default.weight\n",
            "base_model.model.roberta.encoder.layer.4.attention.self.key.lora_A.default.weight\n",
            "base_model.model.roberta.encoder.layer.4.attention.self.key.lora_B.default.weight\n",
            "base_model.model.roberta.encoder.layer.4.attention.self.value.lora_A.default.weight\n",
            "base_model.model.roberta.encoder.layer.4.attention.self.value.lora_B.default.weight\n",
            "base_model.model.roberta.encoder.layer.4.attention.output.dense.lora_A.default.weight\n",
            "base_model.model.roberta.encoder.layer.4.attention.output.dense.lora_B.default.weight\n",
            "base_model.model.roberta.encoder.layer.4.attention.output.LayerNorm.modules_to_save.default.weight\n",
            "base_model.model.roberta.encoder.layer.4.attention.output.LayerNorm.modules_to_save.default.bias\n",
            "base_model.model.roberta.encoder.layer.4.output.dense.lora_A.default.weight\n",
            "base_model.model.roberta.encoder.layer.4.output.dense.lora_B.default.weight\n",
            "base_model.model.roberta.encoder.layer.5.attention.self.query.lora_A.default.weight\n",
            "base_model.model.roberta.encoder.layer.5.attention.self.query.lora_B.default.weight\n",
            "base_model.model.roberta.encoder.layer.5.attention.self.key.lora_A.default.weight\n",
            "base_model.model.roberta.encoder.layer.5.attention.self.key.lora_B.default.weight\n",
            "base_model.model.roberta.encoder.layer.5.attention.self.value.lora_A.default.weight\n",
            "base_model.model.roberta.encoder.layer.5.attention.self.value.lora_B.default.weight\n",
            "base_model.model.roberta.encoder.layer.5.attention.output.dense.lora_A.default.weight\n",
            "base_model.model.roberta.encoder.layer.5.attention.output.dense.lora_B.default.weight\n",
            "base_model.model.roberta.encoder.layer.5.attention.output.LayerNorm.modules_to_save.default.weight\n",
            "base_model.model.roberta.encoder.layer.5.attention.output.LayerNorm.modules_to_save.default.bias\n",
            "base_model.model.roberta.encoder.layer.5.output.dense.lora_A.default.weight\n",
            "base_model.model.roberta.encoder.layer.5.output.dense.lora_B.default.weight\n",
            "base_model.model.roberta.encoder.layer.6.attention.self.query.lora_A.default.weight\n",
            "base_model.model.roberta.encoder.layer.6.attention.self.query.lora_B.default.weight\n",
            "base_model.model.roberta.encoder.layer.6.attention.self.key.lora_A.default.weight\n",
            "base_model.model.roberta.encoder.layer.6.attention.self.key.lora_B.default.weight\n",
            "base_model.model.roberta.encoder.layer.6.attention.self.value.lora_A.default.weight\n",
            "base_model.model.roberta.encoder.layer.6.attention.self.value.lora_B.default.weight\n",
            "base_model.model.roberta.encoder.layer.6.attention.output.dense.lora_A.default.weight\n",
            "base_model.model.roberta.encoder.layer.6.attention.output.dense.lora_B.default.weight\n",
            "base_model.model.roberta.encoder.layer.6.attention.output.LayerNorm.modules_to_save.default.weight\n",
            "base_model.model.roberta.encoder.layer.6.attention.output.LayerNorm.modules_to_save.default.bias\n",
            "base_model.model.roberta.encoder.layer.6.output.dense.lora_A.default.weight\n",
            "base_model.model.roberta.encoder.layer.6.output.dense.lora_B.default.weight\n",
            "base_model.model.roberta.encoder.layer.7.attention.self.query.lora_A.default.weight\n",
            "base_model.model.roberta.encoder.layer.7.attention.self.query.lora_B.default.weight\n",
            "base_model.model.roberta.encoder.layer.7.attention.self.key.lora_A.default.weight\n",
            "base_model.model.roberta.encoder.layer.7.attention.self.key.lora_B.default.weight\n",
            "base_model.model.roberta.encoder.layer.7.attention.self.value.lora_A.default.weight\n",
            "base_model.model.roberta.encoder.layer.7.attention.self.value.lora_B.default.weight\n",
            "base_model.model.roberta.encoder.layer.7.attention.output.dense.lora_A.default.weight\n",
            "base_model.model.roberta.encoder.layer.7.attention.output.dense.lora_B.default.weight\n",
            "base_model.model.roberta.encoder.layer.7.attention.output.LayerNorm.modules_to_save.default.weight\n",
            "base_model.model.roberta.encoder.layer.7.attention.output.LayerNorm.modules_to_save.default.bias\n",
            "base_model.model.roberta.encoder.layer.7.output.dense.lora_A.default.weight\n",
            "base_model.model.roberta.encoder.layer.7.output.dense.lora_B.default.weight\n",
            "base_model.model.roberta.encoder.layer.8.attention.self.query.lora_A.default.weight\n",
            "base_model.model.roberta.encoder.layer.8.attention.self.query.lora_B.default.weight\n",
            "base_model.model.roberta.encoder.layer.8.attention.self.key.lora_A.default.weight\n",
            "base_model.model.roberta.encoder.layer.8.attention.self.key.lora_B.default.weight\n",
            "base_model.model.roberta.encoder.layer.8.attention.self.value.lora_A.default.weight\n",
            "base_model.model.roberta.encoder.layer.8.attention.self.value.lora_B.default.weight\n",
            "base_model.model.roberta.encoder.layer.8.attention.output.dense.lora_A.default.weight\n",
            "base_model.model.roberta.encoder.layer.8.attention.output.dense.lora_B.default.weight\n",
            "base_model.model.roberta.encoder.layer.8.attention.output.LayerNorm.modules_to_save.default.weight\n",
            "base_model.model.roberta.encoder.layer.8.attention.output.LayerNorm.modules_to_save.default.bias\n",
            "base_model.model.roberta.encoder.layer.8.output.dense.lora_A.default.weight\n",
            "base_model.model.roberta.encoder.layer.8.output.dense.lora_B.default.weight\n",
            "base_model.model.roberta.encoder.layer.9.attention.self.query.lora_A.default.weight\n",
            "base_model.model.roberta.encoder.layer.9.attention.self.query.lora_B.default.weight\n",
            "base_model.model.roberta.encoder.layer.9.attention.self.key.lora_A.default.weight\n",
            "base_model.model.roberta.encoder.layer.9.attention.self.key.lora_B.default.weight\n",
            "base_model.model.roberta.encoder.layer.9.attention.self.value.lora_A.default.weight\n",
            "base_model.model.roberta.encoder.layer.9.attention.self.value.lora_B.default.weight\n",
            "base_model.model.roberta.encoder.layer.9.attention.output.dense.lora_A.default.weight\n",
            "base_model.model.roberta.encoder.layer.9.attention.output.dense.lora_B.default.weight\n",
            "base_model.model.roberta.encoder.layer.9.attention.output.LayerNorm.modules_to_save.default.weight\n",
            "base_model.model.roberta.encoder.layer.9.attention.output.LayerNorm.modules_to_save.default.bias\n",
            "base_model.model.roberta.encoder.layer.9.output.dense.lora_A.default.weight\n",
            "base_model.model.roberta.encoder.layer.9.output.dense.lora_B.default.weight\n",
            "base_model.model.roberta.encoder.layer.10.attention.self.query.lora_A.default.weight\n",
            "base_model.model.roberta.encoder.layer.10.attention.self.query.lora_B.default.weight\n",
            "base_model.model.roberta.encoder.layer.10.attention.self.key.lora_A.default.weight\n",
            "base_model.model.roberta.encoder.layer.10.attention.self.key.lora_B.default.weight\n",
            "base_model.model.roberta.encoder.layer.10.attention.self.value.lora_A.default.weight\n",
            "base_model.model.roberta.encoder.layer.10.attention.self.value.lora_B.default.weight\n",
            "base_model.model.roberta.encoder.layer.10.attention.output.dense.lora_A.default.weight\n",
            "base_model.model.roberta.encoder.layer.10.attention.output.dense.lora_B.default.weight\n",
            "base_model.model.roberta.encoder.layer.10.attention.output.LayerNorm.modules_to_save.default.weight\n",
            "base_model.model.roberta.encoder.layer.10.attention.output.LayerNorm.modules_to_save.default.bias\n",
            "base_model.model.roberta.encoder.layer.10.output.dense.lora_A.default.weight\n",
            "base_model.model.roberta.encoder.layer.10.output.dense.lora_B.default.weight\n",
            "base_model.model.roberta.encoder.layer.11.attention.self.query.lora_A.default.weight\n",
            "base_model.model.roberta.encoder.layer.11.attention.self.query.lora_B.default.weight\n",
            "base_model.model.roberta.encoder.layer.11.attention.self.key.lora_A.default.weight\n",
            "base_model.model.roberta.encoder.layer.11.attention.self.key.lora_B.default.weight\n",
            "base_model.model.roberta.encoder.layer.11.attention.self.value.lora_A.default.weight\n",
            "base_model.model.roberta.encoder.layer.11.attention.self.value.lora_B.default.weight\n",
            "base_model.model.roberta.encoder.layer.11.attention.output.dense.lora_A.default.weight\n",
            "base_model.model.roberta.encoder.layer.11.attention.output.dense.lora_B.default.weight\n",
            "base_model.model.roberta.encoder.layer.11.attention.output.LayerNorm.modules_to_save.default.weight\n",
            "base_model.model.roberta.encoder.layer.11.attention.output.LayerNorm.modules_to_save.default.bias\n",
            "base_model.model.roberta.encoder.layer.11.output.dense.lora_A.default.weight\n",
            "base_model.model.roberta.encoder.layer.11.output.dense.lora_B.default.weight\n",
            "base_model.model.classifier.modules_to_save.default.dense.weight\n",
            "base_model.model.classifier.modules_to_save.default.dense.bias\n",
            "base_model.model.classifier.modules_to_save.default.out_proj.weight\n",
            "base_model.model.classifier.modules_to_save.default.out_proj.bias\n"
          ]
        }
      ],
      "source": [
        "print(\"Trainable parameters:\")\n",
        "for name, param in peft_model.named_parameters():\n",
        "    if param.requires_grad:\n",
        "        print(name)"
      ]
    },
    {
      "cell_type": "code",
      "execution_count": null,
      "id": "da45f85c-b016-4c49-8808-6eafa7cb5d1b",
      "metadata": {
        "colab": {
          "base_uri": "https://localhost:8080/"
        },
        "id": "da45f85c-b016-4c49-8808-6eafa7cb5d1b",
        "outputId": "90064ceb-e6d3-42b2-8e85-6fca6d01f904"
      },
      "outputs": [
        {
          "name": "stdout",
          "output_type": "stream",
          "text": [
            "PEFT Model\n",
            "trainable params: 980,740 || all params: 125,629,448 || trainable%: 0.7807\n"
          ]
        }
      ],
      "source": [
        "print('PEFT Model')\n",
        "peft_model.print_trainable_parameters()"
      ]
    },
    {
      "cell_type": "markdown",
      "id": "A8ZYXTpC-vac",
      "metadata": {
        "id": "A8ZYXTpC-vac"
      },
      "source": []
    },
    {
      "cell_type": "markdown",
      "id": "12284b58",
      "metadata": {
        "id": "12284b58"
      },
      "source": [
        "## Training Setup"
      ]
    },
    {
      "cell_type": "code",
      "execution_count": null,
      "id": "0ee64c43-fe38-479a-b3c5-7d939a3db4c1",
      "metadata": {
        "id": "0ee64c43-fe38-479a-b3c5-7d939a3db4c1"
      },
      "outputs": [],
      "source": [
        "# To track evaluation accuracy during training\n",
        "from sklearn.metrics import accuracy_score, precision_score, recall_score, f1_score\n",
        "\n",
        "def compute_metrics(pred):\n",
        "    labels = pred.label_ids\n",
        "    preds = pred.predictions.argmax(-1)\n",
        "    incorrect_indices = np.where(preds != labels)[0]\n",
        "    accuracy = accuracy_score(labels, preds)\n",
        "    return {\n",
        "        'accuracy': accuracy\n",
        "    }"
      ]
    },
    {
      "cell_type": "code",
      "execution_count": null,
      "id": "768b4917-65de-4e55-ae7f-698e287535d4",
      "metadata": {
        "id": "768b4917-65de-4e55-ae7f-698e287535d4"
      },
      "outputs": [],
      "source": [
        "# Setup Training args\n",
        "output_dir = \"results\"\n",
        "training_args = TrainingArguments(\n",
        "    output_dir=output_dir,\n",
        "    report_to=None,\n",
        "    eval_strategy='steps',\n",
        "    logging_steps=1000,\n",
        "    warmup_ratio=0.1,\n",
        "    eval_steps = 1000,\n",
        "    weight_decay=0.01,\n",
        "    learning_rate=5e-4,\n",
        "    lr_scheduler_type=\"cosine\",\n",
        "    num_train_epochs=4,\n",
        "    fp16=True,\n",
        "    dataloader_num_workers=2,\n",
        "    per_device_train_batch_size=32,\n",
        "    per_device_eval_batch_size=32,\n",
        "    optim=\"adamw_torch\"\n",
        ")\n",
        "def get_trainer(model):\n",
        "      return  Trainer(\n",
        "          model=model,\n",
        "          args=training_args,\n",
        "          compute_metrics=compute_metrics,\n",
        "          train_dataset=train_dataset,\n",
        "          eval_dataset=eval_dataset,\n",
        "          data_collator=data_collator,\n",
        "      )"
      ]
    },
    {
      "cell_type": "markdown",
      "id": "9b848278",
      "metadata": {
        "id": "9b848278"
      },
      "source": [
        "### Start Training"
      ]
    },
    {
      "cell_type": "code",
      "execution_count": null,
      "id": "98d9d57d-b57f-4acc-80fb-fc5443e75515",
      "metadata": {
        "colab": {
          "base_uri": "https://localhost:8080/",
          "height": 624
        },
        "id": "98d9d57d-b57f-4acc-80fb-fc5443e75515",
        "outputId": "25ca3cbc-14b6-426a-90a0-2a0933fc1929"
      },
      "outputs": [
        {
          "name": "stderr",
          "output_type": "stream",
          "text": [
            "No label_names provided for model class `PeftModelForSequenceClassification`. Since `PeftModel` hides base models input arguments, if label_names is not given, label_names can't be set automatically within `Trainer`. Note that empty label_names list will be used instead.\n"
          ]
        },
        {
          "data": {
            "text/html": [
              "\n",
              "    <div>\n",
              "      \n",
              "      <progress value='14920' max='14920' style='width:300px; height:20px; vertical-align: middle;'></progress>\n",
              "      [14920/14920 2:06:32, Epoch 4/4]\n",
              "    </div>\n",
              "    <table border=\"1\" class=\"dataframe\">\n",
              "  <thead>\n",
              " <tr style=\"text-align: left;\">\n",
              "      <th>Step</th>\n",
              "      <th>Training Loss</th>\n",
              "      <th>Validation Loss</th>\n",
              "      <th>Accuracy</th>\n",
              "    </tr>\n",
              "  </thead>\n",
              "  <tbody>\n",
              "    <tr>\n",
              "      <td>1000</td>\n",
              "      <td>0.459500</td>\n",
              "      <td>0.243590</td>\n",
              "      <td>0.918750</td>\n",
              "    </tr>\n",
              "    <tr>\n",
              "      <td>2000</td>\n",
              "      <td>0.229600</td>\n",
              "      <td>0.218675</td>\n",
              "      <td>0.921875</td>\n",
              "    </tr>\n",
              "    <tr>\n",
              "      <td>3000</td>\n",
              "      <td>0.211100</td>\n",
              "      <td>0.206774</td>\n",
              "      <td>0.939063</td>\n",
              "    </tr>\n",
              "    <tr>\n",
              "      <td>4000</td>\n",
              "      <td>0.191900</td>\n",
              "      <td>0.185485</td>\n",
              "      <td>0.939063</td>\n",
              "    </tr>\n",
              "    <tr>\n",
              "      <td>5000</td>\n",
              "      <td>0.177100</td>\n",
              "      <td>0.200125</td>\n",
              "      <td>0.932813</td>\n",
              "    </tr>\n",
              "    <tr>\n",
              "      <td>6000</td>\n",
              "      <td>0.169800</td>\n",
              "      <td>0.192626</td>\n",
              "      <td>0.937500</td>\n",
              "    </tr>\n",
              "    <tr>\n",
              "      <td>7000</td>\n",
              "      <td>0.167800</td>\n",
              "      <td>0.192460</td>\n",
              "      <td>0.929688</td>\n",
              "    </tr>\n",
              "    <tr>\n",
              "      <td>8000</td>\n",
              "      <td>0.150400</td>\n",
              "      <td>0.195491</td>\n",
              "      <td>0.932813</td>\n",
              "    </tr>\n",
              "    <tr>\n",
              "      <td>9000</td>\n",
              "      <td>0.141100</td>\n",
              "      <td>0.170484</td>\n",
              "      <td>0.942187</td>\n",
              "    </tr>\n",
              "    <tr>\n",
              "      <td>10000</td>\n",
              "      <td>0.138200</td>\n",
              "      <td>0.166952</td>\n",
              "      <td>0.939063</td>\n",
              "    </tr>\n",
              "    <tr>\n",
              "      <td>11000</td>\n",
              "      <td>0.134100</td>\n",
              "      <td>0.176993</td>\n",
              "      <td>0.946875</td>\n",
              "    </tr>\n",
              "    <tr>\n",
              "      <td>12000</td>\n",
              "      <td>0.121400</td>\n",
              "      <td>0.178411</td>\n",
              "      <td>0.942187</td>\n",
              "    </tr>\n",
              "    <tr>\n",
              "      <td>13000</td>\n",
              "      <td>0.118200</td>\n",
              "      <td>0.173369</td>\n",
              "      <td>0.937500</td>\n",
              "    </tr>\n",
              "    <tr>\n",
              "      <td>14000</td>\n",
              "      <td>0.113500</td>\n",
              "      <td>0.176266</td>\n",
              "      <td>0.942187</td>\n",
              "    </tr>\n",
              "  </tbody>\n",
              "</table><p>"
            ],
            "text/plain": [
              "<IPython.core.display.HTML object>"
            ]
          },
          "metadata": {},
          "output_type": "display_data"
        },
        {
          "name": "stderr",
          "output_type": "stream",
          "text": [
            "/usr/local/lib/python3.11/dist-packages/peft/utils/other.py:716: UserWarning: Unable to fetch remote file due to the following error (ReadTimeoutError(\"HTTPSConnectionPool(host='huggingface.co', port=443): Read timed out. (read timeout=10)\"), '(Request ID: 9fb1f0d0-cca1-4b74-bed1-700804e34543)') - silently ignoring the lookup for the file config.json in roberta-base.\n",
            "  warnings.warn(\n",
            "/usr/local/lib/python3.11/dist-packages/peft/utils/save_and_load.py:246: UserWarning: Could not find a config file in roberta-base - will assume that the vocabulary was not modified.\n",
            "  warnings.warn(\n"
          ]
        }
      ],
      "source": [
        "peft_lora_finetuning_trainer = get_trainer(peft_model)\n",
        "result = peft_lora_finetuning_trainer.train()"
      ]
    },
    {
      "cell_type": "markdown",
      "id": "5183be7e-514f-4e64-a6f4-314a827e6be5",
      "metadata": {
        "id": "5183be7e-514f-4e64-a6f4-314a827e6be5"
      },
      "source": [
        "## Evaluate Finetuned Model\n"
      ]
    },
    {
      "cell_type": "markdown",
      "id": "038198cf-0953-47e7-bd47-b073d05f8378",
      "metadata": {
        "id": "038198cf-0953-47e7-bd47-b073d05f8378"
      },
      "source": [
        "### Performing Inference on Custom Input\n",
        "Uncomment following functions for running inference on custom inputs"
      ]
    },
    {
      "cell_type": "code",
      "execution_count": null,
      "id": "f88ad420-3f46-4eff-9d71-0ce388163062",
      "metadata": {
        "id": "f88ad420-3f46-4eff-9d71-0ce388163062"
      },
      "outputs": [],
      "source": [
        "def classify(model, tokenizer, text):\n",
        "    device = torch.device(\"cuda\" if torch.cuda.is_available() else \"cpu\")\n",
        "    inputs = tokenizer(text, truncation=True, padding=True, return_tensors=\"pt\").to(device)\n",
        "    output = model(**inputs)\n",
        "\n",
        "    prediction = output.logits.argmax(dim=-1).item()\n",
        "\n",
        "    print(f'\\n Class: {prediction}, Label: {id2label[prediction]}, Text: {text}')\n",
        "    return id2label[prediction]"
      ]
    },
    {
      "cell_type": "code",
      "execution_count": null,
      "id": "fc52bb94-5e13-4943-9225-a6d7fd053579",
      "metadata": {
        "colab": {
          "base_uri": "https://localhost:8080/",
          "height": 127
        },
        "id": "fc52bb94-5e13-4943-9225-a6d7fd053579",
        "outputId": "2a53ea27-66c0-49c3-ce21-01720cc7ac7b"
      },
      "outputs": [
        {
          "name": "stdout",
          "output_type": "stream",
          "text": [
            "\n",
            " Class: 1, Label: Sports, Text: Kederis proclaims innocence Olympic champion Kostas Kederis today left hospital ahead of his date with IOC inquisitors claiming his ...\n",
            "\n",
            " Class: 2, Label: Business, Text: Wall St. Bears Claw Back Into the Black (Reuters) Reuters - Short-sellers, Wall Street's dwindling\band of ultra-cynics, are seeing green again.\n"
          ]
        },
        {
          "data": {
            "application/vnd.google.colaboratory.intrinsic+json": {
              "type": "string"
            },
            "text/plain": [
              "'Business'"
            ]
          },
          "execution_count": 88,
          "metadata": {},
          "output_type": "execute_result"
        }
      ],
      "source": [
        "classify( peft_model, tokenizer, \"Kederis proclaims innocence Olympic champion Kostas Kederis today left hospital ahead of his date with IOC inquisitors claiming his ...\")\n",
        "classify( peft_model, tokenizer, \"Wall St. Bears Claw Back Into the Black (Reuters) Reuters - Short-sellers, Wall Street's dwindling\\band of ultra-cynics, are seeing green again.\")"
      ]
    },
    {
      "cell_type": "markdown",
      "id": "68a3e276-bf8c-4403-8a48-5ef19f2beccf",
      "metadata": {
        "id": "68a3e276-bf8c-4403-8a48-5ef19f2beccf"
      },
      "source": [
        "### Run Inference on eval_dataset"
      ]
    },
    {
      "cell_type": "code",
      "execution_count": null,
      "id": "ebbc20a2-a1c0-4cb7-b842-f52e4de61ed5",
      "metadata": {
        "id": "ebbc20a2-a1c0-4cb7-b842-f52e4de61ed5"
      },
      "outputs": [],
      "source": [
        "from torch.utils.data import DataLoader\n",
        "import evaluate\n",
        "from tqdm import tqdm\n",
        "\n",
        "def evaluate_model(inference_model, dataset, labelled=True, batch_size=8, data_collator=None, testCheck=False):\n",
        "    \"\"\"\n",
        "    Evaluate a PEFT model on a dataset.\n",
        "\n",
        "    Args:\n",
        "        inference_model: The model to evaluate.\n",
        "        dataset: The dataset (Hugging Face Dataset) to run inference on.\n",
        "        labelled (bool): If True, the dataset includes labels and metrics will be computed.\n",
        "                         If False, only predictions will be returned.\n",
        "        batch_size (int): Batch size for inference.\n",
        "        data_collator: Function to collate batches. If None, the default collate_fn is used.\n",
        "\n",
        "    Returns:\n",
        "        If labelled is True, returns a tuple (metrics, predictions)\n",
        "        If labelled is False, returns the predictions.\n",
        "    \"\"\"\n",
        "    # Create the DataLoader\n",
        "    eval_dataloader = DataLoader(dataset, batch_size=batch_size, collate_fn=data_collator)\n",
        "    device = torch.device(\"cuda\" if torch.cuda.is_available() else \"cpu\")\n",
        "\n",
        "    inference_model.to(device)\n",
        "    inference_model.eval()\n",
        "\n",
        "    all_predictions = []\n",
        "    all_predictions1 = []\n",
        "    if labelled:\n",
        "        metric = evaluate.load('accuracy')\n",
        "    all_labels = []\n",
        "    all_input_lengths = []\n",
        "    # Loop over the DataLoader\n",
        "    for batch in tqdm(eval_dataloader):\n",
        "        # Move each tensor in the batch to the device\n",
        "        batch = {k: v.to(device) for k, v in batch.items()}\n",
        "        with torch.no_grad():\n",
        "            outputs = inference_model(**batch)\n",
        "        predictions = outputs.logits.argmax(dim=-1)\n",
        "        all_predictions.append(predictions.cpu())\n",
        "        if not testCheck:\n",
        "            all_predictions1.extend([id2label[p.item()] for p in predictions.cpu()])\n",
        "            all_labels.extend([id2label[l.item()] for l in batch['labels'].cpu()])\n",
        "            all_input_lengths.extend([len(input) for input in batch['input_ids']])\n",
        "        if not testCheck:\n",
        "            for label, input, pred in zip(batch['labels'],batch['input_ids'],predictions):\n",
        "                if pred.item() != label.item():\n",
        "                    with open('newlog2.txt', 'a') as file:\n",
        "                        # input: {tokenizer.decode(input, skip_special_tokens=True)}\n",
        "                        file.write(f\"Prediction: {id2label[pred.item()]}, Label: {id2label[label.item()]}, InputLen: {len(input)}\\n\")\n",
        "        if labelled:\n",
        "            # Expecting that labels are provided under the \"labels\" key.\n",
        "            references = batch[\"labels\"]\n",
        "            metric.add_batch(\n",
        "                predictions=predictions.cpu().numpy(),\n",
        "                references=references.cpu().numpy()\n",
        "            )\n",
        "    if not testCheck:\n",
        "        plot_accuracy_to_length(all_predictions1, all_labels, all_input_lengths)\n",
        "    # Concatenate predictions from all batches\n",
        "    all_predictions = torch.cat(all_predictions, dim=0)\n",
        "\n",
        "    if labelled:\n",
        "        eval_metric = metric.compute()\n",
        "        print(\"Evaluation Metric:\", eval_metric)\n",
        "        return eval_metric, all_predictions\n",
        "    else:\n",
        "        return all_predictions"
      ]
    },
    {
      "cell_type": "code",
      "execution_count": null,
      "id": "809635a6-a2c7-4d09-8d60-ababd1815003",
      "metadata": {
        "colab": {
          "base_uri": "https://localhost:8080/",
          "height": 603,
          "referenced_widgets": [
            "c2403d13749d4863b095cd8c2dd14f39",
            "800ae47a9d32485dbd2d60f1c56f4cee",
            "450da2208f524781939202970c1e8040",
            "f7d9a563571644c2b6b0c8e4db2e66a4",
            "14fc44fb63194a3790f92a7a3d59bacd",
            "a1384e304e0a475cafdd0d76096579dd",
            "1cb9126478424e41a338ba31e07d1f5b",
            "4d2f95c1d8ff47b0936cd44fa2534262",
            "8663ce44274b4c7bbbe25c9ffd765517",
            "db8739b909f942fbbb255446b8110dad",
            "01546bddeee248798f4d7592cf4f4422"
          ]
        },
        "id": "809635a6-a2c7-4d09-8d60-ababd1815003",
        "outputId": "bb271427-bab6-410e-c783-2fe3f9ae4c3c"
      },
      "outputs": [
        {
          "data": {
            "application/vnd.jupyter.widget-view+json": {
              "model_id": "c2403d13749d4863b095cd8c2dd14f39",
              "version_major": 2,
              "version_minor": 0
            },
            "text/plain": [
              "Downloading builder script:   0%|          | 0.00/4.20k [00:00<?, ?B/s]"
            ]
          },
          "metadata": {},
          "output_type": "display_data"
        },
        {
          "name": "stderr",
          "output_type": "stream",
          "text": [
            "100%|██████████| 80/80 [00:04<00:00, 18.11it/s]\n"
          ]
        },
        {
          "data": {
            "image/png": "[encoded data removed]",
            "text/plain": [
              "<Figure size 1200x600 with 1 Axes>"
            ]
          },
          "metadata": {},
          "output_type": "display_data"
        },
        {
          "name": "stdout",
          "output_type": "stream",
          "text": [
            "Evaluation Metric: {'accuracy': 0.94375}\n"
          ]
        }
      ],
      "source": [
        "# Check evaluation accuracy\n",
        "_, _ = evaluate_model(peft_model, eval_dataset, True, 8, data_collator)"
      ]
    },
    {
      "cell_type": "markdown",
      "id": "75f39087-f2bb-49d3-9fe1-0d812fb30203",
      "metadata": {
        "id": "75f39087-f2bb-49d3-9fe1-0d812fb30203"
      },
      "source": [
        "### Run Inference on unlabelled dataset"
      ]
    },
    {
      "cell_type": "code",
      "execution_count": null,
      "id": "2af62541-2c33-4f16-bb1c-cc969c715cd7",
      "metadata": {
        "colab": {
          "base_uri": "https://localhost:8080/",
          "height": 120,
          "referenced_widgets": [
            "c4ad807e26604d15adf98a9fe16a54d6",
            "4ab7451a073c4d26ad60d618c4594be8",
            "f9ded8f649a74440b9d27a2a67784b10",
            "53ce957b2ce64dd1b63aaadf7abf3441",
            "64b59557d3a9419bbb96fc6502be4378",
            "4f1a3ff3e679464d8e1dff9f19230023",
            "c77d8aa199c94d8ca9f767a751f270ee",
            "f903b292969148718f82a0ad5fe45c80",
            "0bb5211912df4c60b65e767c16ad2641",
            "e547581b73d7446ca9287440101fba32",
            "fe68fc02473b4751a9244a1913cfde3a"
          ]
        },
        "id": "2af62541-2c33-4f16-bb1c-cc969c715cd7",
        "outputId": "5ae00884-9fc9-4669-e714-ee2ff73abc6a"
      },
      "outputs": [
        {
          "data": {
            "application/vnd.jupyter.widget-view+json": {
              "model_id": "c4ad807e26604d15adf98a9fe16a54d6",
              "version_major": 2,
              "version_minor": 0
            },
            "text/plain": [
              "Map:   0%|          | 0/8000 [00:00<?, ? examples/s]"
            ]
          },
          "metadata": {},
          "output_type": "display_data"
        },
        {
          "data": {
            "text/plain": [
              "Dataset({\n",
              "    features: ['text'],\n",
              "    num_rows: 8000\n",
              "})"
            ]
          },
          "execution_count": 92,
          "metadata": {},
          "output_type": "execute_result"
        }
      ],
      "source": [
        "#Load your unlabelled data\n",
        "unlabelled_dataset = pd.read_pickle(\"test_unlabelled.pkl\")\n",
        "test_dataset = unlabelled_dataset.map(preprocess, batched=True, remove_columns=[\"text\"])\n",
        "unlabelled_dataset"
      ]
    },
    {
      "cell_type": "code",
      "execution_count": null,
      "id": "DKUM5ZBjGR6E",
      "metadata": {
        "id": "DKUM5ZBjGR6E"
      },
      "outputs": [],
      "source": [
        "# loaded_model = PeftModel.from_pretrained(model, 'results/checkpoint-3500')"
      ]
    },
    {
      "cell_type": "code",
      "execution_count": null,
      "id": "e60991d3-38b1-4657-8854-408ce66f6b84",
      "metadata": {
        "colab": {
          "base_uri": "https://localhost:8080/"
        },
        "id": "e60991d3-38b1-4657-8854-408ce66f6b84",
        "outputId": "3be0e28a-f717-4271-f0d5-9966c0d805f7"
      },
      "outputs": [
        {
          "name": "stderr",
          "output_type": "stream",
          "text": [
            "100%|██████████| 1000/1000 [00:45<00:00, 21.81it/s]"
          ]
        },
        {
          "name": "stdout",
          "output_type": "stream",
          "text": [
            "Inference complete. Predictions saved to inference_output.csv\n"
          ]
        },
        {
          "name": "stderr",
          "output_type": "stream",
          "text": [
            "\n"
          ]
        }
      ],
      "source": [
        "# Run inference and save predictions\n",
        "preds = evaluate_model(peft_model, test_dataset, False, 8, data_collator, True)\n",
        "df_output = pd.DataFrame({\n",
        "    'ID': range(len(preds)),\n",
        "    'Label': preds.numpy()  # or preds.tolist()\n",
        "})\n",
        "df_output.to_csv(os.path.join(output_dir,\"inference_output.csv\"), index=False)\n",
        "print(\"Inference complete. Predictions saved to inference_output.csv\")"
      ]
    }
  ],
  "metadata": {
    "accelerator": "GPU",
    "colab": {
      "gpuType": "T4",
      "provenance": []
    },
    "kernelspec": {
      "display_name": "lora_env",
      "language": "python",
      "name": "lora_env"
    },
    "language_info": {
      "codemirror_mode": {
        "name": "ipython",
        "version": 3
      },
      "file_extension": ".py",
      "mimetype": "text/x-python",
      "name": "python",
      "nbconvert_exporter": "python",
      "pygments_lexer": "ipython3",
      "version": "3.12.9"
    },
    "widgets": {
      "application/vnd.jupyter.widget-state+json": {
        "01546bddeee248798f4d7592cf4f4422": {
          "model_module": "@jupyter-widgets/controls",
          "model_module_version": "1.5.0",
          "model_name": "DescriptionStyleModel",
          "state": {
            "_model_module": "@jupyter-widgets/controls",
            "_model_module_version": "1.5.0",
            "_model_name": "DescriptionStyleModel",
            "_view_count": null,
            "_view_module": "@jupyter-widgets/base",
            "_view_module_version": "1.2.0",
            "_view_name": "StyleView",
            "description_width": ""
          }
        },
        "0bb5211912df4c60b65e767c16ad2641": {
          "model_module": "@jupyter-widgets/controls",
          "model_module_version": "1.5.0",
          "model_name": "ProgressStyleModel",
          "state": {
            "_model_module": "@jupyter-widgets/controls",
            "_model_module_version": "1.5.0",
            "_model_name": "ProgressStyleModel",
            "_view_count": null,
            "_view_module": "@jupyter-widgets/base",
            "_view_module_version": "1.2.0",
            "_view_name": "StyleView",
            "bar_color": null,
            "description_width": ""
          }
        },
        "14fc44fb63194a3790f92a7a3d59bacd": {
          "model_module": "@jupyter-widgets/base",
          "model_module_version": "1.2.0",
          "model_name": "LayoutModel",
          "state": {
            "_model_module": "@jupyter-widgets/base",
            "_model_module_version": "1.2.0",
            "_model_name": "LayoutModel",
            "_view_count": null,
            "_view_module": "@jupyter-widgets/base",
            "_view_module_version": "1.2.0",
            "_view_name": "LayoutView",
            "align_content": null,
            "align_items": null,
            "align_self": null,
            "border": null,
            "bottom": null,
            "display": null,
            "flex": null,
            "flex_flow": null,
            "grid_area": null,
            "grid_auto_columns": null,
            "grid_auto_flow": null,
            "grid_auto_rows": null,
            "grid_column": null,
            "grid_gap": null,
            "grid_row": null,
            "grid_template_areas": null,
            "grid_template_columns": null,
            "grid_template_rows": null,
            "height": null,
            "justify_content": null,
            "justify_items": null,
            "left": null,
            "margin": null,
            "max_height": null,
            "max_width": null,
            "min_height": null,
            "min_width": null,
            "object_fit": null,
            "object_position": null,
            "order": null,
            "overflow": null,
            "overflow_x": null,
            "overflow_y": null,
            "padding": null,
            "right": null,
            "top": null,
            "visibility": null,
            "width": null
          }
        },
        "18dd6951c32145e49e5c8c787af8c1c9": {
          "model_module": "@jupyter-widgets/base",
          "model_module_version": "1.2.0",
          "model_name": "LayoutModel",
          "state": {
            "_model_module": "@jupyter-widgets/base",
            "_model_module_version": "1.2.0",
            "_model_name": "LayoutModel",
            "_view_count": null,
            "_view_module": "@jupyter-widgets/base",
            "_view_module_version": "1.2.0",
            "_view_name": "LayoutView",
            "align_content": null,
            "align_items": null,
            "align_self": null,
            "border": null,
            "bottom": null,
            "display": null,
            "flex": null,
            "flex_flow": null,
            "grid_area": null,
            "grid_auto_columns": null,
            "grid_auto_flow": null,
            "grid_auto_rows": null,
            "grid_column": null,
            "grid_gap": null,
            "grid_row": null,
            "grid_template_areas": null,
            "grid_template_columns": null,
            "grid_template_rows": null,
            "height": null,
            "justify_content": null,
            "justify_items": null,
            "left": null,
            "margin": null,
            "max_height": null,
            "max_width": null,
            "min_height": null,
            "min_width": null,
            "object_fit": null,
            "object_position": null,
            "order": null,
            "overflow": null,
            "overflow_x": null,
            "overflow_y": null,
            "padding": null,
            "right": null,
            "top": null,
            "visibility": null,
            "width": null
          }
        },
        "1cb9126478424e41a338ba31e07d1f5b": {
          "model_module": "@jupyter-widgets/controls",
          "model_module_version": "1.5.0",
          "model_name": "DescriptionStyleModel",
          "state": {
            "_model_module": "@jupyter-widgets/controls",
            "_model_module_version": "1.5.0",
            "_model_name": "DescriptionStyleModel",
            "_view_count": null,
            "_view_module": "@jupyter-widgets/base",
            "_view_module_version": "1.2.0",
            "_view_name": "StyleView",
            "description_width": ""
          }
        },
        "241be4b596c747d29717010e3da65323": {
          "model_module": "@jupyter-widgets/controls",
          "model_module_version": "1.5.0",
          "model_name": "FloatProgressModel",
          "state": {
            "_dom_classes": [],
            "_model_module": "@jupyter-widgets/controls",
            "_model_module_version": "1.5.0",
            "_model_name": "FloatProgressModel",
            "_view_count": null,
            "_view_module": "@jupyter-widgets/controls",
            "_view_module_version": "1.5.0",
            "_view_name": "ProgressView",
            "bar_style": "success",
            "description": "",
            "description_tooltip": null,
            "layout": "IPY_MODEL_3085f95be72348d7b128ceae24adaa88",
            "max": 120000,
            "min": 0,
            "orientation": "horizontal",
            "style": "IPY_MODEL_e6781ab0e1e142f789befed0a97c41ba",
            "value": 120000
          }
        },
        "3085f95be72348d7b128ceae24adaa88": {
          "model_module": "@jupyter-widgets/base",
          "model_module_version": "1.2.0",
          "model_name": "LayoutModel",
          "state": {
            "_model_module": "@jupyter-widgets/base",
            "_model_module_version": "1.2.0",
            "_model_name": "LayoutModel",
            "_view_count": null,
            "_view_module": "@jupyter-widgets/base",
            "_view_module_version": "1.2.0",
            "_view_name": "LayoutView",
            "align_content": null,
            "align_items": null,
            "align_self": null,
            "border": null,
            "bottom": null,
            "display": null,
            "flex": null,
            "flex_flow": null,
            "grid_area": null,
            "grid_auto_columns": null,
            "grid_auto_flow": null,
            "grid_auto_rows": null,
            "grid_column": null,
            "grid_gap": null,
            "grid_row": null,
            "grid_template_areas": null,
            "grid_template_columns": null,
            "grid_template_rows": null,
            "height": null,
            "justify_content": null,
            "justify_items": null,
            "left": null,
            "margin": null,
            "max_height": null,
            "max_width": null,
            "min_height": null,
            "min_width": null,
            "object_fit": null,
            "object_position": null,
            "order": null,
            "overflow": null,
            "overflow_x": null,
            "overflow_y": null,
            "padding": null,
            "right": null,
            "top": null,
            "visibility": null,
            "width": null
          }
        },
        "450da2208f524781939202970c1e8040": {
          "model_module": "@jupyter-widgets/controls",
          "model_module_version": "1.5.0",
          "model_name": "FloatProgressModel",
          "state": {
            "_dom_classes": [],
            "_model_module": "@jupyter-widgets/controls",
            "_model_module_version": "1.5.0",
            "_model_name": "FloatProgressModel",
            "_view_count": null,
            "_view_module": "@jupyter-widgets/controls",
            "_view_module_version": "1.5.0",
            "_view_name": "ProgressView",
            "bar_style": "success",
            "description": "",
            "description_tooltip": null,
            "layout": "IPY_MODEL_4d2f95c1d8ff47b0936cd44fa2534262",
            "max": 4203,
            "min": 0,
            "orientation": "horizontal",
            "style": "IPY_MODEL_8663ce44274b4c7bbbe25c9ffd765517",
            "value": 4203
          }
        },
        "4ab7451a073c4d26ad60d618c4594be8": {
          "model_module": "@jupyter-widgets/controls",
          "model_module_version": "1.5.0",
          "model_name": "HTMLModel",
          "state": {
            "_dom_classes": [],
            "_model_module": "@jupyter-widgets/controls",
            "_model_module_version": "1.5.0",
            "_model_name": "HTMLModel",
            "_view_count": null,
            "_view_module": "@jupyter-widgets/controls",
            "_view_module_version": "1.5.0",
            "_view_name": "HTMLView",
            "description": "",
            "description_tooltip": null,
            "layout": "IPY_MODEL_4f1a3ff3e679464d8e1dff9f19230023",
            "placeholder": "​",
            "style": "IPY_MODEL_c77d8aa199c94d8ca9f767a751f270ee",
            "value": "Map: 100%"
          }
        },
        "4d2f95c1d8ff47b0936cd44fa2534262": {
          "model_module": "@jupyter-widgets/base",
          "model_module_version": "1.2.0",
          "model_name": "LayoutModel",
          "state": {
            "_model_module": "@jupyter-widgets/base",
            "_model_module_version": "1.2.0",
            "_model_name": "LayoutModel",
            "_view_count": null,
            "_view_module": "@jupyter-widgets/base",
            "_view_module_version": "1.2.0",
            "_view_name": "LayoutView",
            "align_content": null,
            "align_items": null,
            "align_self": null,
            "border": null,
            "bottom": null,
            "display": null,
            "flex": null,
            "flex_flow": null,
            "grid_area": null,
            "grid_auto_columns": null,
            "grid_auto_flow": null,
            "grid_auto_rows": null,
            "grid_column": null,
            "grid_gap": null,
            "grid_row": null,
            "grid_template_areas": null,
            "grid_template_columns": null,
            "grid_template_rows": null,
            "height": null,
            "justify_content": null,
            "justify_items": null,
            "left": null,
            "margin": null,
            "max_height": null,
            "max_width": null,
            "min_height": null,
            "min_width": null,
            "object_fit": null,
            "object_position": null,
            "order": null,
            "overflow": null,
            "overflow_x": null,
            "overflow_y": null,
            "padding": null,
            "right": null,
            "top": null,
            "visibility": null,
            "width": null
          }
        },
        "4f1a3ff3e679464d8e1dff9f19230023": {
          "model_module": "@jupyter-widgets/base",
          "model_module_version": "1.2.0",
          "model_name": "LayoutModel",
          "state": {
            "_model_module": "@jupyter-widgets/base",
            "_model_module_version": "1.2.0",
            "_model_name": "LayoutModel",
            "_view_count": null,
            "_view_module": "@jupyter-widgets/base",
            "_view_module_version": "1.2.0",
            "_view_name": "LayoutView",
            "align_content": null,
            "align_items": null,
            "align_self": null,
            "border": null,
            "bottom": null,
            "display": null,
            "flex": null,
            "flex_flow": null,
            "grid_area": null,
            "grid_auto_columns": null,
            "grid_auto_flow": null,
            "grid_auto_rows": null,
            "grid_column": null,
            "grid_gap": null,
            "grid_row": null,
            "grid_template_areas": null,
            "grid_template_columns": null,
            "grid_template_rows": null,
            "height": null,
            "justify_content": null,
            "justify_items": null,
            "left": null,
            "margin": null,
            "max_height": null,
            "max_width": null,
            "min_height": null,
            "min_width": null,
            "object_fit": null,
            "object_position": null,
            "order": null,
            "overflow": null,
            "overflow_x": null,
            "overflow_y": null,
            "padding": null,
            "right": null,
            "top": null,
            "visibility": null,
            "width": null
          }
        },
        "53ce957b2ce64dd1b63aaadf7abf3441": {
          "model_module": "@jupyter-widgets/controls",
          "model_module_version": "1.5.0",
          "model_name": "HTMLModel",
          "state": {
            "_dom_classes": [],
            "_model_module": "@jupyter-widgets/controls",
            "_model_module_version": "1.5.0",
            "_model_name": "HTMLModel",
            "_view_count": null,
            "_view_module": "@jupyter-widgets/controls",
            "_view_module_version": "1.5.0",
            "_view_name": "HTMLView",
            "description": "",
            "description_tooltip": null,
            "layout": "IPY_MODEL_e547581b73d7446ca9287440101fba32",
            "placeholder": "​",
            "style": "IPY_MODEL_fe68fc02473b4751a9244a1913cfde3a",
            "value": " 8000/8000 [00:05&lt;00:00, 1573.76 examples/s]"
          }
        },
        "64b59557d3a9419bbb96fc6502be4378": {
          "model_module": "@jupyter-widgets/base",
          "model_module_version": "1.2.0",
          "model_name": "LayoutModel",
          "state": {
            "_model_module": "@jupyter-widgets/base",
            "_model_module_version": "1.2.0",
            "_model_name": "LayoutModel",
            "_view_count": null,
            "_view_module": "@jupyter-widgets/base",
            "_view_module_version": "1.2.0",
            "_view_name": "LayoutView",
            "align_content": null,
            "align_items": null,
            "align_self": null,
            "border": null,
            "bottom": null,
            "display": null,
            "flex": null,
            "flex_flow": null,
            "grid_area": null,
            "grid_auto_columns": null,
            "grid_auto_flow": null,
            "grid_auto_rows": null,
            "grid_column": null,
            "grid_gap": null,
            "grid_row": null,
            "grid_template_areas": null,
            "grid_template_columns": null,
            "grid_template_rows": null,
            "height": null,
            "justify_content": null,
            "justify_items": null,
            "left": null,
            "margin": null,
            "max_height": null,
            "max_width": null,
            "min_height": null,
            "min_width": null,
            "object_fit": null,
            "object_position": null,
            "order": null,
            "overflow": null,
            "overflow_x": null,
            "overflow_y": null,
            "padding": null,
            "right": null,
            "top": null,
            "visibility": null,
            "width": null
          }
        },
        "6843f96f389a4b63b57ac5111f199c51": {
          "model_module": "@jupyter-widgets/controls",
          "model_module_version": "1.5.0",
          "model_name": "HBoxModel",
          "state": {
            "_dom_classes": [],
            "_model_module": "@jupyter-widgets/controls",
            "_model_module_version": "1.5.0",
            "_model_name": "HBoxModel",
            "_view_count": null,
            "_view_module": "@jupyter-widgets/controls",
            "_view_module_version": "1.5.0",
            "_view_name": "HBoxView",
            "box_style": "",
            "children": [
              "IPY_MODEL_d0838ff02bad41b3be4b88e6eb50ca1b",
              "IPY_MODEL_241be4b596c747d29717010e3da65323",
              "IPY_MODEL_b0c478963a94461faa170a735ba0701b"
            ],
            "layout": "IPY_MODEL_96285364c6d349f48b0a31946bda11ab"
          }
        },
        "74f6233a463940c5959f8f343be1774c": {
          "model_module": "@jupyter-widgets/controls",
          "model_module_version": "1.5.0",
          "model_name": "DescriptionStyleModel",
          "state": {
            "_model_module": "@jupyter-widgets/controls",
            "_model_module_version": "1.5.0",
            "_model_name": "DescriptionStyleModel",
            "_view_count": null,
            "_view_module": "@jupyter-widgets/base",
            "_view_module_version": "1.2.0",
            "_view_name": "StyleView",
            "description_width": ""
          }
        },
        "800ae47a9d32485dbd2d60f1c56f4cee": {
          "model_module": "@jupyter-widgets/controls",
          "model_module_version": "1.5.0",
          "model_name": "HTMLModel",
          "state": {
            "_dom_classes": [],
            "_model_module": "@jupyter-widgets/controls",
            "_model_module_version": "1.5.0",
            "_model_name": "HTMLModel",
            "_view_count": null,
            "_view_module": "@jupyter-widgets/controls",
            "_view_module_version": "1.5.0",
            "_view_name": "HTMLView",
            "description": "",
            "description_tooltip": null,
            "layout": "IPY_MODEL_a1384e304e0a475cafdd0d76096579dd",
            "placeholder": "​",
            "style": "IPY_MODEL_1cb9126478424e41a338ba31e07d1f5b",
            "value": "Downloading builder script: 100%"
          }
        },
        "8663ce44274b4c7bbbe25c9ffd765517": {
          "model_module": "@jupyter-widgets/controls",
          "model_module_version": "1.5.0",
          "model_name": "ProgressStyleModel",
          "state": {
            "_model_module": "@jupyter-widgets/controls",
            "_model_module_version": "1.5.0",
            "_model_name": "ProgressStyleModel",
            "_view_count": null,
            "_view_module": "@jupyter-widgets/base",
            "_view_module_version": "1.2.0",
            "_view_name": "StyleView",
            "bar_color": null,
            "description_width": ""
          }
        },
        "96285364c6d349f48b0a31946bda11ab": {
          "model_module": "@jupyter-widgets/base",
          "model_module_version": "1.2.0",
          "model_name": "LayoutModel",
          "state": {
            "_model_module": "@jupyter-widgets/base",
            "_model_module_version": "1.2.0",
            "_model_name": "LayoutModel",
            "_view_count": null,
            "_view_module": "@jupyter-widgets/base",
            "_view_module_version": "1.2.0",
            "_view_name": "LayoutView",
            "align_content": null,
            "align_items": null,
            "align_self": null,
            "border": null,
            "bottom": null,
            "display": null,
            "flex": null,
            "flex_flow": null,
            "grid_area": null,
            "grid_auto_columns": null,
            "grid_auto_flow": null,
            "grid_auto_rows": null,
            "grid_column": null,
            "grid_gap": null,
            "grid_row": null,
            "grid_template_areas": null,
            "grid_template_columns": null,
            "grid_template_rows": null,
            "height": null,
            "justify_content": null,
            "justify_items": null,
            "left": null,
            "margin": null,
            "max_height": null,
            "max_width": null,
            "min_height": null,
            "min_width": null,
            "object_fit": null,
            "object_position": null,
            "order": null,
            "overflow": null,
            "overflow_x": null,
            "overflow_y": null,
            "padding": null,
            "right": null,
            "top": null,
            "visibility": null,
            "width": null
          }
        },
        "a1384e304e0a475cafdd0d76096579dd": {
          "model_module": "@jupyter-widgets/base",
          "model_module_version": "1.2.0",
          "model_name": "LayoutModel",
          "state": {
            "_model_module": "@jupyter-widgets/base",
            "_model_module_version": "1.2.0",
            "_model_name": "LayoutModel",
            "_view_count": null,
            "_view_module": "@jupyter-widgets/base",
            "_view_module_version": "1.2.0",
            "_view_name": "LayoutView",
            "align_content": null,
            "align_items": null,
            "align_self": null,
            "border": null,
            "bottom": null,
            "display": null,
            "flex": null,
            "flex_flow": null,
            "grid_area": null,
            "grid_auto_columns": null,
            "grid_auto_flow": null,
            "grid_auto_rows": null,
            "grid_column": null,
            "grid_gap": null,
            "grid_row": null,
            "grid_template_areas": null,
            "grid_template_columns": null,
            "grid_template_rows": null,
            "height": null,
            "justify_content": null,
            "justify_items": null,
            "left": null,
            "margin": null,
            "max_height": null,
            "max_width": null,
            "min_height": null,
            "min_width": null,
            "object_fit": null,
            "object_position": null,
            "order": null,
            "overflow": null,
            "overflow_x": null,
            "overflow_y": null,
            "padding": null,
            "right": null,
            "top": null,
            "visibility": null,
            "width": null
          }
        },
        "b0c478963a94461faa170a735ba0701b": {
          "model_module": "@jupyter-widgets/controls",
          "model_module_version": "1.5.0",
          "model_name": "HTMLModel",
          "state": {
            "_dom_classes": [],
            "_model_module": "@jupyter-widgets/controls",
            "_model_module_version": "1.5.0",
            "_model_name": "HTMLModel",
            "_view_count": null,
            "_view_module": "@jupyter-widgets/controls",
            "_view_module_version": "1.5.0",
            "_view_name": "HTMLView",
            "description": "",
            "description_tooltip": null,
            "layout": "IPY_MODEL_18dd6951c32145e49e5c8c787af8c1c9",
            "placeholder": "​",
            "style": "IPY_MODEL_74f6233a463940c5959f8f343be1774c",
            "value": " 120000/120000 [01:01&lt;00:00, 2125.90 examples/s]"
          }
        },
        "c2403d13749d4863b095cd8c2dd14f39": {
          "model_module": "@jupyter-widgets/controls",
          "model_module_version": "1.5.0",
          "model_name": "HBoxModel",
          "state": {
            "_dom_classes": [],
            "_model_module": "@jupyter-widgets/controls",
            "_model_module_version": "1.5.0",
            "_model_name": "HBoxModel",
            "_view_count": null,
            "_view_module": "@jupyter-widgets/controls",
            "_view_module_version": "1.5.0",
            "_view_name": "HBoxView",
            "box_style": "",
            "children": [
              "IPY_MODEL_800ae47a9d32485dbd2d60f1c56f4cee",
              "IPY_MODEL_450da2208f524781939202970c1e8040",
              "IPY_MODEL_f7d9a563571644c2b6b0c8e4db2e66a4"
            ],
            "layout": "IPY_MODEL_14fc44fb63194a3790f92a7a3d59bacd"
          }
        },
        "c4ad807e26604d15adf98a9fe16a54d6": {
          "model_module": "@jupyter-widgets/controls",
          "model_module_version": "1.5.0",
          "model_name": "HBoxModel",
          "state": {
            "_dom_classes": [],
            "_model_module": "@jupyter-widgets/controls",
            "_model_module_version": "1.5.0",
            "_model_name": "HBoxModel",
            "_view_count": null,
            "_view_module": "@jupyter-widgets/controls",
            "_view_module_version": "1.5.0",
            "_view_name": "HBoxView",
            "box_style": "",
            "children": [
              "IPY_MODEL_4ab7451a073c4d26ad60d618c4594be8",
              "IPY_MODEL_f9ded8f649a74440b9d27a2a67784b10",
              "IPY_MODEL_53ce957b2ce64dd1b63aaadf7abf3441"
            ],
            "layout": "IPY_MODEL_64b59557d3a9419bbb96fc6502be4378"
          }
        },
        "c77d8aa199c94d8ca9f767a751f270ee": {
          "model_module": "@jupyter-widgets/controls",
          "model_module_version": "1.5.0",
          "model_name": "DescriptionStyleModel",
          "state": {
            "_model_module": "@jupyter-widgets/controls",
            "_model_module_version": "1.5.0",
            "_model_name": "DescriptionStyleModel",
            "_view_count": null,
            "_view_module": "@jupyter-widgets/base",
            "_view_module_version": "1.2.0",
            "_view_name": "StyleView",
            "description_width": ""
          }
        },
        "d0838ff02bad41b3be4b88e6eb50ca1b": {
          "model_module": "@jupyter-widgets/controls",
          "model_module_version": "1.5.0",
          "model_name": "HTMLModel",
          "state": {
            "_dom_classes": [],
            "_model_module": "@jupyter-widgets/controls",
            "_model_module_version": "1.5.0",
            "_model_name": "HTMLModel",
            "_view_count": null,
            "_view_module": "@jupyter-widgets/controls",
            "_view_module_version": "1.5.0",
            "_view_name": "HTMLView",
            "description": "",
            "description_tooltip": null,
            "layout": "IPY_MODEL_f1e9f60f173a4040a5ea457f753495f5",
            "placeholder": "​",
            "style": "IPY_MODEL_d12dc4ab60654306a92c97b2a722b7f7",
            "value": "Map: 100%"
          }
        },
        "d12dc4ab60654306a92c97b2a722b7f7": {
          "model_module": "@jupyter-widgets/controls",
          "model_module_version": "1.5.0",
          "model_name": "DescriptionStyleModel",
          "state": {
            "_model_module": "@jupyter-widgets/controls",
            "_model_module_version": "1.5.0",
            "_model_name": "DescriptionStyleModel",
            "_view_count": null,
            "_view_module": "@jupyter-widgets/base",
            "_view_module_version": "1.2.0",
            "_view_name": "StyleView",
            "description_width": ""
          }
        },
        "db8739b909f942fbbb255446b8110dad": {
          "model_module": "@jupyter-widgets/base",
          "model_module_version": "1.2.0",
          "model_name": "LayoutModel",
          "state": {
            "_model_module": "@jupyter-widgets/base",
            "_model_module_version": "1.2.0",
            "_model_name": "LayoutModel",
            "_view_count": null,
            "_view_module": "@jupyter-widgets/base",
            "_view_module_version": "1.2.0",
            "_view_name": "LayoutView",
            "align_content": null,
            "align_items": null,
            "align_self": null,
            "border": null,
            "bottom": null,
            "display": null,
            "flex": null,
            "flex_flow": null,
            "grid_area": null,
            "grid_auto_columns": null,
            "grid_auto_flow": null,
            "grid_auto_rows": null,
            "grid_column": null,
            "grid_gap": null,
            "grid_row": null,
            "grid_template_areas": null,
            "grid_template_columns": null,
            "grid_template_rows": null,
            "height": null,
            "justify_content": null,
            "justify_items": null,
            "left": null,
            "margin": null,
            "max_height": null,
            "max_width": null,
            "min_height": null,
            "min_width": null,
            "object_fit": null,
            "object_position": null,
            "order": null,
            "overflow": null,
            "overflow_x": null,
            "overflow_y": null,
            "padding": null,
            "right": null,
            "top": null,
            "visibility": null,
            "width": null
          }
        },
        "e547581b73d7446ca9287440101fba32": {
          "model_module": "@jupyter-widgets/base",
          "model_module_version": "1.2.0",
          "model_name": "LayoutModel",
          "state": {
            "_model_module": "@jupyter-widgets/base",
            "_model_module_version": "1.2.0",
            "_model_name": "LayoutModel",
            "_view_count": null,
            "_view_module": "@jupyter-widgets/base",
            "_view_module_version": "1.2.0",
            "_view_name": "LayoutView",
            "align_content": null,
            "align_items": null,
            "align_self": null,
            "border": null,
            "bottom": null,
            "display": null,
            "flex": null,
            "flex_flow": null,
            "grid_area": null,
            "grid_auto_columns": null,
            "grid_auto_flow": null,
            "grid_auto_rows": null,
            "grid_column": null,
            "grid_gap": null,
            "grid_row": null,
            "grid_template_areas": null,
            "grid_template_columns": null,
            "grid_template_rows": null,
            "height": null,
            "justify_content": null,
            "justify_items": null,
            "left": null,
            "margin": null,
            "max_height": null,
            "max_width": null,
            "min_height": null,
            "min_width": null,
            "object_fit": null,
            "object_position": null,
            "order": null,
            "overflow": null,
            "overflow_x": null,
            "overflow_y": null,
            "padding": null,
            "right": null,
            "top": null,
            "visibility": null,
            "width": null
          }
        },
        "e6781ab0e1e142f789befed0a97c41ba": {
          "model_module": "@jupyter-widgets/controls",
          "model_module_version": "1.5.0",
          "model_name": "ProgressStyleModel",
          "state": {
            "_model_module": "@jupyter-widgets/controls",
            "_model_module_version": "1.5.0",
            "_model_name": "ProgressStyleModel",
            "_view_count": null,
            "_view_module": "@jupyter-widgets/base",
            "_view_module_version": "1.2.0",
            "_view_name": "StyleView",
            "bar_color": null,
            "description_width": ""
          }
        },
        "f1e9f60f173a4040a5ea457f753495f5": {
          "model_module": "@jupyter-widgets/base",
          "model_module_version": "1.2.0",
          "model_name": "LayoutModel",
          "state": {
            "_model_module": "@jupyter-widgets/base",
            "_model_module_version": "1.2.0",
            "_model_name": "LayoutModel",
            "_view_count": null,
            "_view_module": "@jupyter-widgets/base",
            "_view_module_version": "1.2.0",
            "_view_name": "LayoutView",
            "align_content": null,
            "align_items": null,
            "align_self": null,
            "border": null,
            "bottom": null,
            "display": null,
            "flex": null,
            "flex_flow": null,
            "grid_area": null,
            "grid_auto_columns": null,
            "grid_auto_flow": null,
            "grid_auto_rows": null,
            "grid_column": null,
            "grid_gap": null,
            "grid_row": null,
            "grid_template_areas": null,
            "grid_template_columns": null,
            "grid_template_rows": null,
            "height": null,
            "justify_content": null,
            "justify_items": null,
            "left": null,
            "margin": null,
            "max_height": null,
            "max_width": null,
            "min_height": null,
            "min_width": null,
            "object_fit": null,
            "object_position": null,
            "order": null,
            "overflow": null,
            "overflow_x": null,
            "overflow_y": null,
            "padding": null,
            "right": null,
            "top": null,
            "visibility": null,
            "width": null
          }
        },
        "f7d9a563571644c2b6b0c8e4db2e66a4": {
          "model_module": "@jupyter-widgets/controls",
          "model_module_version": "1.5.0",
          "model_name": "HTMLModel",
          "state": {
            "_dom_classes": [],
            "_model_module": "@jupyter-widgets/controls",
            "_model_module_version": "1.5.0",
            "_model_name": "HTMLModel",
            "_view_count": null,
            "_view_module": "@jupyter-widgets/controls",
            "_view_module_version": "1.5.0",
            "_view_name": "HTMLView",
            "description": "",
            "description_tooltip": null,
            "layout": "IPY_MODEL_db8739b909f942fbbb255446b8110dad",
            "placeholder": "​",
            "style": "IPY_MODEL_01546bddeee248798f4d7592cf4f4422",
            "value": " 4.20k/4.20k [00:00&lt;00:00, 429kB/s]"
          }
        },
        "f903b292969148718f82a0ad5fe45c80": {
          "model_module": "@jupyter-widgets/base",
          "model_module_version": "1.2.0",
          "model_name": "LayoutModel",
          "state": {
            "_model_module": "@jupyter-widgets/base",
            "_model_module_version": "1.2.0",
            "_model_name": "LayoutModel",
            "_view_count": null,
            "_view_module": "@jupyter-widgets/base",
            "_view_module_version": "1.2.0",
            "_view_name": "LayoutView",
            "align_content": null,
            "align_items": null,
            "align_self": null,
            "border": null,
            "bottom": null,
            "display": null,
            "flex": null,
            "flex_flow": null,
            "grid_area": null,
            "grid_auto_columns": null,
            "grid_auto_flow": null,
            "grid_auto_rows": null,
            "grid_column": null,
            "grid_gap": null,
            "grid_row": null,
            "grid_template_areas": null,
            "grid_template_columns": null,
            "grid_template_rows": null,
            "height": null,
            "justify_content": null,
            "justify_items": null,
            "left": null,
            "margin": null,
            "max_height": null,
            "max_width": null,
            "min_height": null,
            "min_width": null,
            "object_fit": null,
            "object_position": null,
            "order": null,
            "overflow": null,
            "overflow_x": null,
            "overflow_y": null,
            "padding": null,
            "right": null,
            "top": null,
            "visibility": null,
            "width": null
          }
        },
        "f9ded8f649a74440b9d27a2a67784b10": {
          "model_module": "@jupyter-widgets/controls",
          "model_module_version": "1.5.0",
          "model_name": "FloatProgressModel",
          "state": {
            "_dom_classes": [],
            "_model_module": "@jupyter-widgets/controls",
            "_model_module_version": "1.5.0",
            "_model_name": "FloatProgressModel",
            "_view_count": null,
            "_view_module": "@jupyter-widgets/controls",
            "_view_module_version": "1.5.0",
            "_view_name": "ProgressView",
            "bar_style": "success",
            "description": "",
            "description_tooltip": null,
            "layout": "IPY_MODEL_f903b292969148718f82a0ad5fe45c80",
            "max": 8000,
            "min": 0,
            "orientation": "horizontal",
            "style": "IPY_MODEL_0bb5211912df4c60b65e767c16ad2641",
            "value": 8000
          }
        },
        "fe68fc02473b4751a9244a1913cfde3a": {
          "model_module": "@jupyter-widgets/controls",
          "model_module_version": "1.5.0",
          "model_name": "DescriptionStyleModel",
          "state": {
            "_model_module": "@jupyter-widgets/controls",
            "_model_module_version": "1.5.0",
            "_model_name": "DescriptionStyleModel",
            "_view_count": null,
            "_view_module": "@jupyter-widgets/base",
            "_view_module_version": "1.2.0",
            "_view_name": "StyleView",
            "description_width": ""
          }
        }
      }
    }
  },
  "nbformat": 4,
  "nbformat_minor": 5
}
